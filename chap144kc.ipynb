{
 "cells": [
  {
   "cell_type": "markdown",
   "metadata": {},
   "source": [
    "# 1.4.4 Smoothing Images"
   ]
  },
  {
   "cell_type": "markdown",
   "metadata": {},
   "source": [
    "## Kernel Convolution"
   ]
  },
  {
   "cell_type": "code",
   "execution_count": 1,
   "metadata": {
    "scrolled": true,
    "tags": []
   },
   "outputs": [],
   "source": [
    "import cv2\n",
    "import numpy as np\n",
    "from matplotlib import pyplot as plt"
   ]
  },
  {
   "cell_type": "code",
   "execution_count": 2,
   "metadata": {},
   "outputs": [],
   "source": [
    "l=1\n",
    "kernel = np.array([[0,-1,0],[-1,5,-1],[0,-1,0]],np.float32)"
   ]
  },
  {
   "cell_type": "code",
   "execution_count": 3,
   "metadata": {},
   "outputs": [
    {
     "data": {
      "text/plain": [
       "array([[ 0., -1.,  0.],\n",
       "       [-1.,  5., -1.],\n",
       "       [ 0., -1.,  0.]], dtype=float32)"
      ]
     },
     "execution_count": 3,
     "metadata": {},
     "output_type": "execute_result"
    }
   ],
   "source": [
    "kernel"
   ]
  },
  {
   "cell_type": "code",
   "execution_count": 4,
   "metadata": {},
   "outputs": [],
   "source": [
    "img = np.random.randint(10, size=(12,12))\n",
    "#img = np.ones((10,10),np.float32)"
   ]
  },
  {
   "cell_type": "code",
   "execution_count": 5,
   "metadata": {},
   "outputs": [
    {
     "data": {
      "text/plain": [
       "array([[7, 2, 8, 6, 6, 5, 6, 6, 1, 7, 9, 0],\n",
       "       [3, 4, 2, 2, 0, 4, 9, 1, 8, 5, 4, 7],\n",
       "       [4, 6, 3, 9, 1, 0, 4, 0, 9, 9, 8, 7],\n",
       "       [6, 6, 0, 0, 0, 4, 6, 2, 4, 8, 5, 8],\n",
       "       [0, 9, 0, 0, 5, 3, 1, 5, 7, 8, 8, 4],\n",
       "       [9, 6, 9, 2, 2, 3, 1, 1, 3, 0, 8, 2],\n",
       "       [4, 5, 5, 6, 7, 1, 7, 1, 7, 6, 1, 7],\n",
       "       [1, 3, 6, 5, 5, 0, 0, 4, 5, 5, 5, 6],\n",
       "       [7, 6, 5, 4, 5, 5, 7, 5, 8, 2, 6, 9],\n",
       "       [6, 2, 6, 4, 5, 9, 2, 4, 4, 8, 5, 2],\n",
       "       [7, 8, 3, 6, 2, 9, 9, 8, 9, 7, 7, 8],\n",
       "       [7, 0, 6, 3, 7, 5, 3, 2, 4, 4, 0, 9]])"
      ]
     },
     "execution_count": 5,
     "metadata": {},
     "output_type": "execute_result"
    }
   ],
   "source": [
    "img"
   ]
  },
  {
   "cell_type": "code",
   "execution_count": 6,
   "metadata": {},
   "outputs": [],
   "source": [
    "h,w=img.shape"
   ]
  },
  {
   "cell_type": "code",
   "execution_count": 7,
   "metadata": {},
   "outputs": [
    {
     "name": "stdout",
     "output_type": "stream",
     "text": [
      "12 12\n"
     ]
    }
   ],
   "source": [
    "print(h,w)"
   ]
  },
  {
   "cell_type": "code",
   "execution_count": 8,
   "metadata": {},
   "outputs": [],
   "source": [
    "#[*range(-2,3)]"
   ]
  },
  {
   "cell_type": "code",
   "execution_count": 9,
   "metadata": {},
   "outputs": [
    {
     "name": "stderr",
     "output_type": "stream",
     "text": [
      "<ipython-input-9-6137fcb8b1c2>:1: DeprecationWarning: `np.int` is a deprecated alias for the builtin `int`. To silence this warning, use `int` by itself. Doing this will not modify any behavior and is safe. When replacing `np.int`, you may wish to use e.g. `np.int64` or `np.int32` to specify the precision. If you wish to review your current use, check the release note link for additional information.\n",
      "Deprecated in NumPy 1.20; for more details and guidance: https://numpy.org/devdocs/release/1.20.0-notes.html#deprecations\n",
      "  dst = np.zeros((h,w),np.int)\n"
     ]
    }
   ],
   "source": [
    "dst = np.zeros((h,w),np.int)"
   ]
  },
  {
   "cell_type": "code",
   "execution_count": 10,
   "metadata": {},
   "outputs": [],
   "source": [
    "for i in range(l,h-l):\n",
    "    for j in range(l,w-l):\n",
    "        t=0\n",
    "        for p in range(-l,l+1):\n",
    "            for q in range(-l,l+1):\n",
    "                t += kernel[p+l,q+l]*img[i+p,j+q]\n",
    "        dst[i,j]=t        "
   ]
  },
  {
   "cell_type": "code",
   "execution_count": 11,
   "metadata": {},
   "outputs": [
    {
     "data": {
      "text/plain": [
       "array([[7, 2, 8, 6, 6, 5, 6, 6, 1, 7, 9, 0],\n",
       "       [3, 4, 2, 2, 0, 4, 9, 1, 8, 5, 4, 7],\n",
       "       [4, 6, 3, 9, 1, 0, 4, 0, 9, 9, 8, 7],\n",
       "       [6, 6, 0, 0, 0, 4, 6, 2, 4, 8, 5, 8],\n",
       "       [0, 9, 0, 0, 5, 3, 1, 5, 7, 8, 8, 4],\n",
       "       [9, 6, 9, 2, 2, 3, 1, 1, 3, 0, 8, 2],\n",
       "       [4, 5, 5, 6, 7, 1, 7, 1, 7, 6, 1, 7],\n",
       "       [1, 3, 6, 5, 5, 0, 0, 4, 5, 5, 5, 6],\n",
       "       [7, 6, 5, 4, 5, 5, 7, 5, 8, 2, 6, 9],\n",
       "       [6, 2, 6, 4, 5, 9, 2, 4, 4, 8, 5, 2],\n",
       "       [7, 8, 3, 6, 2, 9, 9, 8, 9, 7, 7, 8],\n",
       "       [7, 0, 6, 3, 7, 5, 3, 2, 4, 4, 0, 9]])"
      ]
     },
     "execution_count": 11,
     "metadata": {},
     "output_type": "execute_result"
    }
   ],
   "source": [
    "img"
   ]
  },
  {
   "cell_type": "code",
   "execution_count": 12,
   "metadata": {},
   "outputs": [
    {
     "data": {
      "text/plain": [
       "array([[  0,   0,   0,   0,   0,   0,   0,   0,   0,   0,   0,   0],\n",
       "       [  0,   7,  -7,  -7, -13,   6,  30, -18,  24,  -3,  -9,   0],\n",
       "       [  0,  13,  -2,  39,  -4, -13,   5, -16,  24,  15,  15,   0],\n",
       "       [  0,   9,  -9,  -9, -10,  11,  19,  -5,  -6,  14,  -7,   0],\n",
       "       [  0,  33, -18,  -7,  20,   2, -10,  14,  15,  17,  15,   0],\n",
       "       [  0,  -2,  32,  -7,  -7,   8,  -7,  -5,   0, -25,  29,   0],\n",
       "       [  0,   7,  -1,  11,  21, -12,  32, -14,  20,  17, -21,   0],\n",
       "       [  0,  -3,  12,   4,   8, -11, -18,   9,   1,   7,   7,   0],\n",
       "       [  0,  13,   3,   1,   6,   4,  23,   2,  24, -17,   9,   0],\n",
       "       [  0, -16,  16,  -1,   5,  24, -19,   1,  -9,  22,   2,   0],\n",
       "       [  0,  28, -11,  18, -17,  20,  23,  16,  22,   7,  15,   0],\n",
       "       [  0,   0,   0,   0,   0,   0,   0,   0,   0,   0,   0,   0]])"
      ]
     },
     "execution_count": 12,
     "metadata": {},
     "output_type": "execute_result"
    }
   ],
   "source": [
    "dst"
   ]
  },
  {
   "cell_type": "code",
   "execution_count": 13,
   "metadata": {},
   "outputs": [],
   "source": [
    "img = cv2.imread('lena.png', 0)"
   ]
  },
  {
   "cell_type": "code",
   "execution_count": 14,
   "metadata": {},
   "outputs": [],
   "source": [
    "h,w=img.shape"
   ]
  },
  {
   "cell_type": "code",
   "execution_count": 15,
   "metadata": {},
   "outputs": [],
   "source": [
    "dst = np.zeros((h-2*l,w-2*l),np.uint8)"
   ]
  },
  {
   "cell_type": "code",
   "execution_count": 16,
   "metadata": {},
   "outputs": [],
   "source": [
    "for i in range(l,h-l):\n",
    "    for j in range(l,w-l):\n",
    "        t=0\n",
    "        for p in range(-l,l+1):\n",
    "            for q in range(-l,l+1):\n",
    "                t += kernel[p+l,q+l]*img[i+p,j+q]\n",
    "        dst[i-l,j-l]=t "
   ]
  },
  {
   "cell_type": "code",
   "execution_count": null,
   "metadata": {},
   "outputs": [],
   "source": [
    "cv2.imshow('img',img)\n",
    "cv2.imshow('dst',dst)\n",
    "cv2.waitKey(0)\n",
    "cv2.destroyAllWindows()"
   ]
  },
  {
   "cell_type": "code",
   "execution_count": null,
   "metadata": {},
   "outputs": [],
   "source": []
  },
  {
   "cell_type": "code",
   "execution_count": null,
   "metadata": {},
   "outputs": [],
   "source": []
  }
 ],
 "metadata": {
  "kernelspec": {
   "display_name": "Python 3",
   "language": "python",
   "name": "python3"
  },
  "language_info": {
   "codemirror_mode": {
    "name": "ipython",
    "version": 3
   },
   "file_extension": ".py",
   "mimetype": "text/x-python",
   "name": "python",
   "nbconvert_exporter": "python",
   "pygments_lexer": "ipython3",
   "version": "3.8.8"
  }
 },
 "nbformat": 4,
 "nbformat_minor": 4
}
