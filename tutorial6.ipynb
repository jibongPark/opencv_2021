{
 "cells": [
  {
   "cell_type": "code",
   "execution_count": 1,
   "id": "bd5892bc-b133-4016-afbe-aa431afd1c07",
   "metadata": {},
   "outputs": [],
   "source": [
    "x=3"
   ]
  },
  {
   "cell_type": "code",
   "execution_count": 2,
   "id": "e8aa11d6-67b8-4333-9ee2-5c972be64db2",
   "metadata": {},
   "outputs": [
    {
     "name": "stdout",
     "output_type": "stream",
     "text": [
      "3\n",
      "4\n"
     ]
    }
   ],
   "source": [
    "while x <5:\n",
    "    print (x),\n",
    "    x = x+1"
   ]
  },
  {
   "cell_type": "code",
   "execution_count": 3,
   "id": "3c43e85d-f7a8-497d-8e6e-66b990c08277",
   "metadata": {},
   "outputs": [],
   "source": [
    "x = 6"
   ]
  },
  {
   "cell_type": "code",
   "execution_count": 5,
   "id": "88143911-f204-4d82-ad24-f205a8a76887",
   "metadata": {},
   "outputs": [],
   "source": [
    "while x< 5:\n",
    "    print (x)"
   ]
  },
  {
   "cell_type": "code",
   "execution_count": null,
   "id": "8f95e5d2-d2a7-436e-8bac-091b197e588f",
   "metadata": {},
   "outputs": [],
   "source": []
  }
 ],
 "metadata": {
  "kernelspec": {
   "display_name": "Python 3",
   "language": "python",
   "name": "python3"
  },
  "language_info": {
   "codemirror_mode": {
    "name": "ipython",
    "version": 3
   },
   "file_extension": ".py",
   "mimetype": "text/x-python",
   "name": "python",
   "nbconvert_exporter": "python",
   "pygments_lexer": "ipython3",
   "version": "3.8.8"
  }
 },
 "nbformat": 4,
 "nbformat_minor": 5
}
