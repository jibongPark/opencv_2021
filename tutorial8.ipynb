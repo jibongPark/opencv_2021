{
 "cells": [
  {
   "cell_type": "code",
   "execution_count": 1,
   "id": "4a6af2fa-ec05-4c6a-9e93-db9f225310cb",
   "metadata": {},
   "outputs": [],
   "source": [
    "def myfun(x,y):# 함수 작성\n",
    "    return x*y"
   ]
  },
  {
   "cell_type": "code",
   "execution_count": 2,
   "id": "3ff420a6-e559-4dc7-82b7-65d29dcaee75",
   "metadata": {},
   "outputs": [
    {
     "data": {
      "text/plain": [
       "45"
      ]
     },
     "execution_count": 2,
     "metadata": {},
     "output_type": "execute_result"
    }
   ],
   "source": [
    "myfun(5,9)"
   ]
  },
  {
   "cell_type": "code",
   "execution_count": 5,
   "id": "2bc45727-47d1-4d72-a1eb-89d8e5fe0741",
   "metadata": {},
   "outputs": [],
   "source": [
    "def myfun(x):\n",
    "    return x*3"
   ]
  },
  {
   "cell_type": "code",
   "execution_count": 6,
   "id": "bb8227b5-ba02-47ce-bf5a-90a8db8b399a",
   "metadata": {},
   "outputs": [],
   "source": [
    "def apply(q,x):\n",
    "    return q(x)"
   ]
  },
  {
   "cell_type": "code",
   "execution_count": 7,
   "id": "31eeb722-b3ac-4a62-823d-edff98b65020",
   "metadata": {},
   "outputs": [
    {
     "data": {
      "text/plain": [
       "21"
      ]
     },
     "execution_count": 7,
     "metadata": {},
     "output_type": "execute_result"
    }
   ],
   "source": [
    "apply(myfun,7)"
   ]
  },
  {
   "cell_type": "code",
   "execution_count": 8,
   "id": "f0ed6802-640d-41b4-927b-d49b5b2374cc",
   "metadata": {},
   "outputs": [
    {
     "data": {
      "text/plain": [
       "28"
      ]
     },
     "execution_count": 8,
     "metadata": {},
     "output_type": "execute_result"
    }
   ],
   "source": [
    "apply(lambda z:z*4,7)"
   ]
  },
  {
   "cell_type": "code",
   "execution_count": 9,
   "id": "fbeb9002-e900-4c2f-a214-c5dc937ebf3e",
   "metadata": {},
   "outputs": [],
   "source": [
    "def myfun(b,c=3,d=\"hello\"):\n",
    "    return b+c"
   ]
  },
  {
   "cell_type": "code",
   "execution_count": 10,
   "id": "7537a911-6498-45df-9138-ae1fe626f905",
   "metadata": {},
   "outputs": [
    {
     "data": {
      "text/plain": [
       "8"
      ]
     },
     "execution_count": 10,
     "metadata": {},
     "output_type": "execute_result"
    }
   ],
   "source": [
    "myfun(5,3,\"hello\")"
   ]
  },
  {
   "cell_type": "code",
   "execution_count": 11,
   "id": "311377e9-029a-4b3d-a0e6-73d79b4dc29a",
   "metadata": {},
   "outputs": [
    {
     "data": {
      "text/plain": [
       "8"
      ]
     },
     "execution_count": 11,
     "metadata": {},
     "output_type": "execute_result"
    }
   ],
   "source": [
    "myfun(5,3)"
   ]
  },
  {
   "cell_type": "code",
   "execution_count": 12,
   "id": "b0c39f66-690b-471e-8273-99a050d88251",
   "metadata": {},
   "outputs": [
    {
     "data": {
      "text/plain": [
       "8"
      ]
     },
     "execution_count": 12,
     "metadata": {},
     "output_type": "execute_result"
    }
   ],
   "source": [
    "myfun(5)"
   ]
  },
  {
   "cell_type": "code",
   "execution_count": 13,
   "id": "e5355a97-aa35-4927-bf42-88b0c969a6e9",
   "metadata": {},
   "outputs": [],
   "source": [
    "def myfun(a,b,c):\n",
    "    return a-b"
   ]
  },
  {
   "cell_type": "code",
   "execution_count": 14,
   "id": "799a0329-36b7-4e22-8bac-75f85f41dcc6",
   "metadata": {},
   "outputs": [
    {
     "data": {
      "text/plain": [
       "1"
      ]
     },
     "execution_count": 14,
     "metadata": {},
     "output_type": "execute_result"
    }
   ],
   "source": [
    "myfun(2,1,43)"
   ]
  },
  {
   "cell_type": "code",
   "execution_count": 15,
   "id": "4ee44a77-669c-4503-ae8f-fd8cc30da102",
   "metadata": {},
   "outputs": [
    {
     "data": {
      "text/plain": [
       "1"
      ]
     },
     "execution_count": 15,
     "metadata": {},
     "output_type": "execute_result"
    }
   ],
   "source": [
    "myfun(c=43,b=1,a=2)"
   ]
  },
  {
   "cell_type": "code",
   "execution_count": 16,
   "id": "3957f1a8-08ac-4286-9e3b-364c41c940f9",
   "metadata": {},
   "outputs": [
    {
     "data": {
      "text/plain": [
       "1"
      ]
     },
     "execution_count": 16,
     "metadata": {},
     "output_type": "execute_result"
    }
   ],
   "source": [
    "myfun(2,c=43,b=1)"
   ]
  },
  {
   "cell_type": "code",
   "execution_count": 17,
   "id": "d75920ef-4a6f-4c14-8736-51a6786309f2",
   "metadata": {},
   "outputs": [],
   "source": [
    "x=\"abc\""
   ]
  },
  {
   "cell_type": "code",
   "execution_count": 18,
   "id": "1a0c0adb-22c7-4052-bb3d-a0fb609ac2c2",
   "metadata": {},
   "outputs": [],
   "source": [
    "y=34"
   ]
  },
  {
   "cell_type": "code",
   "execution_count": 19,
   "id": "5971f385-5f7f-4ffe-8b0a-f6c1fca48f06",
   "metadata": {},
   "outputs": [
    {
     "data": {
      "text/plain": [
       "'abc xyz 34'"
      ]
     },
     "execution_count": 19,
     "metadata": {},
     "output_type": "execute_result"
    }
   ],
   "source": [
    "\"%s xyz %d\" %(x,y)"
   ]
  },
  {
   "cell_type": "code",
   "execution_count": 20,
   "id": "13923a30-a05b-4e22-90c7-1769eddbaa92",
   "metadata": {},
   "outputs": [
    {
     "name": "stdout",
     "output_type": "stream",
     "text": [
      "abc xyz 34\n"
     ]
    }
   ],
   "source": [
    "print(\"%s xyz %d\" % (\"abc\",34))"
   ]
  },
  {
   "cell_type": "code",
   "execution_count": 21,
   "id": "9184c0a7-da00-4b25-864f-5801577fa703",
   "metadata": {},
   "outputs": [
    {
     "data": {
      "text/plain": [
       "'abc;def;ghi'"
      ]
     },
     "execution_count": 21,
     "metadata": {},
     "output_type": "execute_result"
    }
   ],
   "source": [
    "\";\".join([\"abc\",\"def\",\"ghi\"])"
   ]
  },
  {
   "cell_type": "code",
   "execution_count": 22,
   "id": "ccfae1d7-1411-4045-95d2-1adbd444cfa5",
   "metadata": {},
   "outputs": [
    {
     "data": {
      "text/plain": [
       "['abc', 'def', 'ghi']"
      ]
     },
     "execution_count": 22,
     "metadata": {},
     "output_type": "execute_result"
    }
   ],
   "source": [
    "\"abc;def;ghi\".split(\";\")"
   ]
  },
  {
   "cell_type": "code",
   "execution_count": 23,
   "id": "1b939a58-d0d8-4704-aacb-89f480d033b2",
   "metadata": {},
   "outputs": [
    {
     "data": {
      "text/plain": [
       "'hello2'"
      ]
     },
     "execution_count": 23,
     "metadata": {},
     "output_type": "execute_result"
    }
   ],
   "source": [
    "\"hello\" + str(2)"
   ]
  }
 ],
 "metadata": {
  "kernelspec": {
   "display_name": "Python 3",
   "language": "python",
   "name": "python3"
  },
  "language_info": {
   "codemirror_mode": {
    "name": "ipython",
    "version": 3
   },
   "file_extension": ".py",
   "mimetype": "text/x-python",
   "name": "python",
   "nbconvert_exporter": "python",
   "pygments_lexer": "ipython3",
   "version": "3.8.8"
  }
 },
 "nbformat": 4,
 "nbformat_minor": 5
}
