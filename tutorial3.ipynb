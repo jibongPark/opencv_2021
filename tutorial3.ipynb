{
 "cells": [
  {
   "cell_type": "markdown",
   "id": "0f09cdda-3b1d-4089-9dd6-5a6efeded1db",
   "metadata": {},
   "source": [
    "# 딕셔너리 작성"
   ]
  },
  {
   "cell_type": "code",
   "execution_count": 15,
   "id": "3b21e278-e348-439f-9433-1fa6bf89fcd6",
   "metadata": {},
   "outputs": [],
   "source": [
    "d = {'user':'bozo', 'pswd': 1234}"
   ]
  },
  {
   "cell_type": "code",
   "execution_count": 16,
   "id": "13181d24-b29a-4d7e-967a-00732eba95b6",
   "metadata": {},
   "outputs": [
    {
     "data": {
      "text/plain": [
       "'bozo'"
      ]
     },
     "execution_count": 16,
     "metadata": {},
     "output_type": "execute_result"
    }
   ],
   "source": [
    "d['user']"
   ]
  },
  {
   "cell_type": "code",
   "execution_count": 17,
   "id": "600be680-82fa-4f9a-9fb7-bf1282a24063",
   "metadata": {},
   "outputs": [
    {
     "data": {
      "text/plain": [
       "1234"
      ]
     },
     "execution_count": 17,
     "metadata": {},
     "output_type": "execute_result"
    }
   ],
   "source": [
    "d['pswd']"
   ]
  },
  {
   "cell_type": "code",
   "execution_count": 19,
   "id": "5c0ed6c3-394f-4123-bb88-4df4d36cea37",
   "metadata": {},
   "outputs": [
    {
     "ename": "KeyError",
     "evalue": "'bozo'",
     "output_type": "error",
     "traceback": [
      "\u001b[1;31m---------------------------------------------------------------------------\u001b[0m",
      "\u001b[1;31mKeyError\u001b[0m                                  Traceback (most recent call last)",
      "\u001b[1;32m<ipython-input-19-43b02e323296>\u001b[0m in \u001b[0;36m<module>\u001b[1;34m\u001b[0m\n\u001b[1;32m----> 1\u001b[1;33m \u001b[0md\u001b[0m\u001b[1;33m[\u001b[0m\u001b[1;34m'bozo'\u001b[0m\u001b[1;33m]\u001b[0m\u001b[1;31m#벨류값 호출시 에러\u001b[0m\u001b[1;33m\u001b[0m\u001b[1;33m\u001b[0m\u001b[0m\n\u001b[0m",
      "\u001b[1;31mKeyError\u001b[0m: 'bozo'"
     ]
    }
   ],
   "source": [
    "d['bozo']#벨류값 호출시 에러"
   ]
  },
  {
   "cell_type": "code",
   "execution_count": 20,
   "id": "f5e8b445-4e59-45fa-bfcd-9a90906fc9e1",
   "metadata": {},
   "outputs": [],
   "source": [
    "d={'user':'bozo','pswd':1234}"
   ]
  },
  {
   "cell_type": "code",
   "execution_count": 21,
   "id": "3a0f830a-9e6c-4961-bf65-7ce3a7d4d70a",
   "metadata": {},
   "outputs": [
    {
     "data": {
      "text/plain": [
       "{'user': 'clown', 'pswd': 1234}"
      ]
     },
     "execution_count": 21,
     "metadata": {},
     "output_type": "execute_result"
    }
   ],
   "source": [
    "d['user']='clown'\n",
    "d"
   ]
  },
  {
   "cell_type": "code",
   "execution_count": 22,
   "id": "6b7e3194-5611-4e2b-8c30-8bd37848c3d6",
   "metadata": {},
   "outputs": [],
   "source": [
    "d['id'] = 45"
   ]
  },
  {
   "cell_type": "code",
   "execution_count": 23,
   "id": "f77376ed-ec5f-49c9-bc1d-91cd0551a707",
   "metadata": {},
   "outputs": [
    {
     "data": {
      "text/plain": [
       "{'user': 'clown', 'pswd': 1234, 'id': 45}"
      ]
     },
     "execution_count": 23,
     "metadata": {},
     "output_type": "execute_result"
    }
   ],
   "source": [
    "d"
   ]
  },
  {
   "cell_type": "code",
   "execution_count": 24,
   "id": "efc51e6f-8ca7-4019-a3f7-fbc3845cfa57",
   "metadata": {},
   "outputs": [],
   "source": [
    "d = {'user':'bozo','p':1234,'i':34}"
   ]
  },
  {
   "cell_type": "code",
   "execution_count": 25,
   "id": "9009d8c6-3c14-4996-9b28-b64b873dad21",
   "metadata": {},
   "outputs": [],
   "source": [
    "del d['user']"
   ]
  },
  {
   "cell_type": "code",
   "execution_count": 26,
   "id": "5c89fe8e-95dd-4582-bbdf-b5ae39ca7539",
   "metadata": {},
   "outputs": [
    {
     "data": {
      "text/plain": [
       "{'p': 1234, 'i': 34}"
      ]
     },
     "execution_count": 26,
     "metadata": {},
     "output_type": "execute_result"
    }
   ],
   "source": [
    "d"
   ]
  },
  {
   "cell_type": "code",
   "execution_count": 27,
   "id": "6554650c-f0d3-4a9a-a2f0-f230ac8a82e5",
   "metadata": {},
   "outputs": [
    {
     "data": {
      "text/plain": [
       "{}"
      ]
     },
     "execution_count": 27,
     "metadata": {},
     "output_type": "execute_result"
    }
   ],
   "source": [
    "d.clear()\n",
    "d"
   ]
  },
  {
   "cell_type": "code",
   "execution_count": 28,
   "id": "770722f0-3759-461e-aca1-8c231ccb615e",
   "metadata": {},
   "outputs": [],
   "source": [
    "a=[1,2]"
   ]
  },
  {
   "cell_type": "code",
   "execution_count": 36,
   "id": "c840c4ed-b67f-4f90-bbb3-bb01de511d3e",
   "metadata": {},
   "outputs": [],
   "source": [
    "a = [1,2]"
   ]
  },
  {
   "cell_type": "code",
   "execution_count": 37,
   "id": "b40c768a-1908-4121-a51c-e42d1e342d5f",
   "metadata": {},
   "outputs": [],
   "source": [
    "del a[1]"
   ]
  },
  {
   "cell_type": "code",
   "execution_count": 38,
   "id": "72703e5f-1a0e-4fae-bec4-59d3cd02b735",
   "metadata": {},
   "outputs": [
    {
     "data": {
      "text/plain": [
       "[1]"
      ]
     },
     "execution_count": 38,
     "metadata": {},
     "output_type": "execute_result"
    }
   ],
   "source": [
    "a"
   ]
  },
  {
   "cell_type": "code",
   "execution_count": 39,
   "id": "bda0871c-8840-4752-a591-5e888b05e44f",
   "metadata": {},
   "outputs": [],
   "source": [
    "d = {'user':'bozo','p':1234,'i':34}"
   ]
  },
  {
   "cell_type": "code",
   "execution_count": 40,
   "id": "538162b3-dd70-4bcd-b02c-36d74ac97b20",
   "metadata": {},
   "outputs": [
    {
     "data": {
      "text/plain": [
       "dict_keys(['user', 'p', 'i'])"
      ]
     },
     "execution_count": 40,
     "metadata": {},
     "output_type": "execute_result"
    }
   ],
   "source": [
    "d.keys()"
   ]
  },
  {
   "cell_type": "code",
   "execution_count": 41,
   "id": "f073d9da-680e-4aa2-b4c4-947abad824b4",
   "metadata": {},
   "outputs": [],
   "source": [
    "#키값만 추출"
   ]
  },
  {
   "cell_type": "code",
   "execution_count": 42,
   "id": "2cc72a6a-6c6d-4d35-918d-ad000cfc56a8",
   "metadata": {},
   "outputs": [
    {
     "data": {
      "text/plain": [
       "dict_values(['bozo', 1234, 34])"
      ]
     },
     "execution_count": 42,
     "metadata": {},
     "output_type": "execute_result"
    }
   ],
   "source": [
    "d.values()"
   ]
  },
  {
   "cell_type": "code",
   "execution_count": 43,
   "id": "89bfe7a8-2e90-460b-9b87-c988ac4f4351",
   "metadata": {},
   "outputs": [],
   "source": [
    "#벨류 값만 추출"
   ]
  },
  {
   "cell_type": "code",
   "execution_count": 44,
   "id": "d89f23fd-306a-40b4-9255-2fc8a25c4342",
   "metadata": {},
   "outputs": [
    {
     "data": {
      "text/plain": [
       "dict_items([('user', 'bozo'), ('p', 1234), ('i', 34)])"
      ]
     },
     "execution_count": 44,
     "metadata": {},
     "output_type": "execute_result"
    }
   ],
   "source": [
    "d.items()"
   ]
  },
  {
   "cell_type": "code",
   "execution_count": 45,
   "id": "d2a015ee-8ec7-4f1a-b6ba-47bd402be5e2",
   "metadata": {},
   "outputs": [],
   "source": [
    "#딕셔너리의 모든 데이터 출력"
   ]
  },
  {
   "cell_type": "code",
   "execution_count": null,
   "id": "29fa6de9-595f-4a92-89fd-fff012b92d04",
   "metadata": {},
   "outputs": [],
   "source": []
  }
 ],
 "metadata": {
  "kernelspec": {
   "display_name": "Python 3",
   "language": "python",
   "name": "python3"
  },
  "language_info": {
   "codemirror_mode": {
    "name": "ipython",
    "version": 3
   },
   "file_extension": ".py",
   "mimetype": "text/x-python",
   "name": "python",
   "nbconvert_exporter": "python",
   "pygments_lexer": "ipython3",
   "version": "3.8.8"
  }
 },
 "nbformat": 4,
 "nbformat_minor": 5
}
