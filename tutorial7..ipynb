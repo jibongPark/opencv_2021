{
 "cells": [
  {
   "cell_type": "code",
   "execution_count": 1,
   "id": "8e79e999-a853-409c-9ccc-29e42a383be8",
   "metadata": {},
   "outputs": [],
   "source": [
    "li = [3,6,2,7]"
   ]
  },
  {
   "cell_type": "code",
   "execution_count": 2,
   "id": "5db56ed8-a063-4849-86ed-894cc176ddf1",
   "metadata": {},
   "outputs": [
    {
     "data": {
      "text/plain": [
       "[6, 12, 4, 14]"
      ]
     },
     "execution_count": 2,
     "metadata": {},
     "output_type": "execute_result"
    }
   ],
   "source": [
    "[elem*2 for elem in li]"
   ]
  },
  {
   "cell_type": "code",
   "execution_count": 3,
   "id": "2efd5466-85f5-4566-a943-0ffa588703a3",
   "metadata": {},
   "outputs": [],
   "source": [
    "li = [('a',1),('b',2),('c',70)]"
   ]
  },
  {
   "cell_type": "code",
   "execution_count": 4,
   "id": "c8f3c46e-10ac-432f-b19d-ac87421e9137",
   "metadata": {},
   "outputs": [
    {
     "data": {
      "text/plain": [
       "[('a', 1), ('b', 2), ('c', 70)]"
      ]
     },
     "execution_count": 4,
     "metadata": {},
     "output_type": "execute_result"
    }
   ],
   "source": [
    "li"
   ]
  },
  {
   "cell_type": "code",
   "execution_count": 5,
   "id": "58353ae8-c566-4137-84b9-ae62ed465b6f",
   "metadata": {},
   "outputs": [
    {
     "ename": "SyntaxError",
     "evalue": "invalid syntax (<ipython-input-5-3b662e1b2987>, line 1)",
     "output_type": "error",
     "traceback": [
      "\u001b[1;36m  File \u001b[1;32m\"<ipython-input-5-3b662e1b2987>\"\u001b[1;36m, line \u001b[1;32m1\u001b[0m\n\u001b[1;33m    [n*3 for ((x,n) in li)]\u001b[0m\n\u001b[1;37m                          ^\u001b[0m\n\u001b[1;31mSyntaxError\u001b[0m\u001b[1;31m:\u001b[0m invalid syntax\n"
     ]
    }
   ],
   "source": [
    "[n*3 for ((x,n) in li)]"
   ]
  },
  {
   "cell_type": "code",
   "execution_count": 6,
   "id": "846026a2-e5ca-47ee-b86a-46f116ba931b",
   "metadata": {},
   "outputs": [
    {
     "data": {
      "text/plain": [
       "[3, 6, 210]"
      ]
     },
     "execution_count": 6,
     "metadata": {},
     "output_type": "execute_result"
    }
   ],
   "source": [
    "[n*3 for (x,n) in li]"
   ]
  },
  {
   "cell_type": "code",
   "execution_count": 7,
   "id": "62cf463d-bd8c-455f-87a8-db1afde968d2",
   "metadata": {},
   "outputs": [],
   "source": [
    "li = [3,6,2,7,1,9]"
   ]
  },
  {
   "cell_type": "code",
   "execution_count": 8,
   "id": "ee94cdf1-e282-46c1-8f1f-d255776856c2",
   "metadata": {},
   "outputs": [
    {
     "data": {
      "text/plain": [
       "[3, 6, 2, 7, 1, 9]"
      ]
     },
     "execution_count": 8,
     "metadata": {},
     "output_type": "execute_result"
    }
   ],
   "source": [
    "li"
   ]
  },
  {
   "cell_type": "code",
   "execution_count": 9,
   "id": "2032a4c1-2c4d-4c32-a7e7-60167d59fdba",
   "metadata": {},
   "outputs": [
    {
     "data": {
      "text/plain": [
       "[12, 14, 18]"
      ]
     },
     "execution_count": 9,
     "metadata": {},
     "output_type": "execute_result"
    }
   ],
   "source": [
    "[elem *2 for elem in li if elem > 4] #4초과인 값만 *2"
   ]
  },
  {
   "cell_type": "code",
   "execution_count": 11,
   "id": "d6d41cbb-182c-4654-a437-c0d9de8e4784",
   "metadata": {},
   "outputs": [],
   "source": [
    "li = [3,2,4,1]"
   ]
  },
  {
   "cell_type": "code",
   "execution_count": 13,
   "id": "375c6d55-91f5-444d-98fa-a57e56725761",
   "metadata": {},
   "outputs": [
    {
     "data": {
      "text/plain": [
       "[8, 6, 10, 4]"
      ]
     },
     "execution_count": 13,
     "metadata": {},
     "output_type": "execute_result"
    }
   ],
   "source": [
    "[elem*2 for elem in[item+1 for item in li]] # +1식 한후 *2"
   ]
  },
  {
   "cell_type": "code",
   "execution_count": null,
   "id": "eec6a6f2-8e83-4355-ad68-19f1637a4d3b",
   "metadata": {},
   "outputs": [],
   "source": []
  }
 ],
 "metadata": {
  "kernelspec": {
   "display_name": "Python 3",
   "language": "python",
   "name": "python3"
  },
  "language_info": {
   "codemirror_mode": {
    "name": "ipython",
    "version": 3
   },
   "file_extension": ".py",
   "mimetype": "text/x-python",
   "name": "python",
   "nbconvert_exporter": "python",
   "pygments_lexer": "ipython3",
   "version": "3.8.8"
  }
 },
 "nbformat": 4,
 "nbformat_minor": 5
}
