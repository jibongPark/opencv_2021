{
 "cells": [
  {
   "cell_type": "code",
   "execution_count": 3,
   "id": "c8d4c4b0-e78a-44d7-9228-fcf4ac6c8ee6",
   "metadata": {},
   "outputs": [],
   "source": [
    "x =1\n",
    "y =1"
   ]
  },
  {
   "cell_type": "code",
   "execution_count": 4,
   "id": "e204659c-eb09-4249-bef2-f523258f56d4",
   "metadata": {},
   "outputs": [
    {
     "data": {
      "text/plain": [
       "True"
      ]
     },
     "execution_count": 4,
     "metadata": {},
     "output_type": "execute_result"
    }
   ],
   "source": [
    "x == y"
   ]
  },
  {
   "cell_type": "code",
   "execution_count": 5,
   "id": "8343a7ac-ca8a-4492-9951-66787c033100",
   "metadata": {},
   "outputs": [
    {
     "data": {
      "text/plain": [
       "True"
      ]
     },
     "execution_count": 5,
     "metadata": {},
     "output_type": "execute_result"
    }
   ],
   "source": [
    "x is y"
   ]
  },
  {
   "cell_type": "code",
   "execution_count": 6,
   "id": "ed925c4b-975c-4069-a606-e0d647254106",
   "metadata": {},
   "outputs": [
    {
     "data": {
      "text/plain": [
       "False"
      ]
     },
     "execution_count": 6,
     "metadata": {},
     "output_type": "execute_result"
    }
   ],
   "source": [
    "y='s'\n",
    "x is y"
   ]
  },
  {
   "cell_type": "code",
   "execution_count": 7,
   "id": "40e72973-7823-4735-a026-bb224ad3c82a",
   "metadata": {},
   "outputs": [],
   "source": [
    "#is 개체가 같은 때 true 반납 == 값이 같을 때 true 반납"
   ]
  },
  {
   "cell_type": "code",
   "execution_count": 10,
   "id": "6a123057-3f91-467f-86f5-494105683827",
   "metadata": {},
   "outputs": [],
   "source": [
    "a =(1,2,3)\n",
    "b =(4,5,6)"
   ]
  },
  {
   "cell_type": "code",
   "execution_count": 11,
   "id": "5e2d305f-af15-4b79-86e8-deee877b6e05",
   "metadata": {},
   "outputs": [
    {
     "data": {
      "text/plain": [
       "(4, 5, 6)"
      ]
     },
     "execution_count": 11,
     "metadata": {},
     "output_type": "execute_result"
    }
   ],
   "source": [
    "a and b"
   ]
  },
  {
   "cell_type": "code",
   "execution_count": 12,
   "id": "87f8f375-e856-4cfe-a77f-4624c242e558",
   "metadata": {},
   "outputs": [
    {
     "data": {
      "text/plain": [
       "(1, 2, 3)"
      ]
     },
     "execution_count": 12,
     "metadata": {},
     "output_type": "execute_result"
    }
   ],
   "source": [
    "a or b"
   ]
  },
  {
   "cell_type": "code",
   "execution_count": 13,
   "id": "31ac038b-dc8c-45cf-8265-a9ccd80b8c8b",
   "metadata": {},
   "outputs": [
    {
     "data": {
      "text/plain": [
       "False"
      ]
     },
     "execution_count": 13,
     "metadata": {},
     "output_type": "execute_result"
    }
   ],
   "source": [
    "not a"
   ]
  },
  {
   "cell_type": "code",
   "execution_count": null,
   "id": "d974e0c3-b386-46a9-b458-8e0eb4036325",
   "metadata": {},
   "outputs": [],
   "source": []
  }
 ],
 "metadata": {
  "kernelspec": {
   "display_name": "Python 3",
   "language": "python",
   "name": "python3"
  },
  "language_info": {
   "codemirror_mode": {
    "name": "ipython",
    "version": 3
   },
   "file_extension": ".py",
   "mimetype": "text/x-python",
   "name": "python",
   "nbconvert_exporter": "python",
   "pygments_lexer": "ipython3",
   "version": "3.9.4"
  }
 },
 "nbformat": 4,
 "nbformat_minor": 5
}
